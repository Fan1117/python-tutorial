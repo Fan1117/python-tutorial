{
 "cells": [
  {
   "cell_type": "markdown",
   "metadata": {},
   "source": [
    "# np problem \n",
    "## subsequence: $2^n$ can skip words: every word has two probabilities $2\\cdot2$  \n",
    "# P problem multinomial complexity\n",
    "## substring: $n^2$ can't skip words: length 1 n + length 2 n-1  \n",
    "# write and explain?\n",
    "explain first: plan\n",
    "\n",
    "# 边界检查：Null if not s return \"\"\n",
    "# for length(longest)\n",
    "\n",
    "# coding style: left, right(at least one word)\n",
    "\n",
    "\n",
    "# coding range: "
   ]
  },
  {
   "cell_type": "code",
   "execution_count": 1,
   "metadata": {},
   "outputs": [],
   "source": [
    "# class Solution:\n",
    "#     def longestPalindrome(self, s: str) -> str:\n",
    "#         if not s:\n",
    "#             return \"\" ### \"\" and None\n",
    "#         self.start, self.longest = 0, 0\n",
    "        \n",
    "#         for middle in range(len(s)):\n",
    "#             self.find_longest_palindrome_from(s, middle, middle)\n",
    "#             self.find_longest_palindrome_from(s, middle, middle + 1)\n",
    "#         return s[self.start:self.start+self.longest]\n",
    "    \n",
    "    \n",
    "#     def find_longest_palindrome_from(self, s, left, right):\n",
    "#         while left >= 0 and right < len(s) and s[left] == s[right]:\n",
    "#             left -= 1\n",
    "#             right += 1\n",
    "#         if right -left -1 > self.longest:\n",
    "#             self.longest = right -left -1\n",
    "#             self.start = left + 1\n",
    "            \n",
    "# DP           \n",
    "class Solution:\n",
    "    def longestPalindrome(self, s: str) -> str:\n",
    "        if not s:\n",
    "            return \"\"\n",
    "        n = len(s)\n",
    "        #initialize all False\n",
    "        is_palindrome = [[False]*n for _ in range(n)]\n",
    "        #initialize True for odd\n",
    "        for i in range(n):\n",
    "            is_palindrome[i][i] = True\n",
    "        #initialize True for even\n",
    "        for i in range(1,n):\n",
    "            is_palindrome[i][i-1] = True\n",
    "            \n",
    "            \n",
    "            \n",
    "        longest, start, end = 1, 0, 0            \n",
    "        for length in range(1,n):\n",
    "            for i in range(n-length):\n",
    "                j = i + length\n",
    "                is_palindrome[i][j] = s[i] == s[j] and is_palindrome[i+1][j-1]\n",
    "                if is_palindrome[i][j] and length + 1 > longest:\n",
    "                    longest = length + 1\n",
    "                    start, end = i, j\n",
    "        return s[start:end + 1]\n",
    "    "
   ]
  },
  {
   "cell_type": "code",
   "execution_count": null,
   "metadata": {},
   "outputs": [],
   "source": []
  }
 ],
 "metadata": {
  "kernelspec": {
   "display_name": "Python 3",
   "language": "python",
   "name": "python3"
  },
  "language_info": {
   "codemirror_mode": {
    "name": "ipython",
    "version": 3
   },
   "file_extension": ".py",
   "mimetype": "text/x-python",
   "name": "python",
   "nbconvert_exporter": "python",
   "pygments_lexer": "ipython3",
   "version": "3.7.1"
  }
 },
 "nbformat": 4,
 "nbformat_minor": 2
}
