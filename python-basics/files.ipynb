{
 "cells": [
  {
   "cell_type": "code",
   "execution_count": 1,
   "metadata": {},
   "outputs": [
    {
     "name": "stdout",
     "output_type": "stream",
     "text": [
      "<_io.TextIOWrapper name='raw_stop.txt' mode='r' encoding='cp936'>\n"
     ]
    }
   ],
   "source": [
    "with open('raw_stop.txt') as fhand:\n",
    "    print(fhand)"
   ]
  },
  {
   "cell_type": "markdown",
   "metadata": {},
   "source": [
    "# Newline Print add newline automatically"
   ]
  },
  {
   "cell_type": "code",
   "execution_count": 4,
   "metadata": {},
   "outputs": [
    {
     "name": "stdout",
     "output_type": "stream",
     "text": [
      "78869\n"
     ]
    }
   ],
   "source": [
    "count = 0\n",
    "with open('raw_stop.txt') as fhand:\n",
    "    for line in fhand:\n",
    "        count+=1\n",
    "    print(count)"
   ]
  },
  {
   "cell_type": "code",
   "execution_count": 8,
   "metadata": {},
   "outputs": [
    {
     "name": "stdout",
     "output_type": "stream",
     "text": [
      "11480270\n",
      "%OpenBCI Raw EEG Dat\n"
     ]
    }
   ],
   "source": [
    "with open('raw_stop.txt') as fhand:\n",
    "    inp = fhand.read()\n",
    "    print(len(inp))\n",
    "    print(inp[:20])"
   ]
  },
  {
   "cell_type": "code",
   "execution_count": null,
   "metadata": {},
   "outputs": [],
   "source": []
  }
 ],
 "metadata": {
  "kernelspec": {
   "display_name": "Python 3",
   "language": "python",
   "name": "python3"
  },
  "language_info": {
   "codemirror_mode": {
    "name": "ipython",
    "version": 3
   },
   "file_extension": ".py",
   "mimetype": "text/x-python",
   "name": "python",
   "nbconvert_exporter": "python",
   "pygments_lexer": "ipython3",
   "version": "3.6.8"
  }
 },
 "nbformat": 4,
 "nbformat_minor": 2
}
